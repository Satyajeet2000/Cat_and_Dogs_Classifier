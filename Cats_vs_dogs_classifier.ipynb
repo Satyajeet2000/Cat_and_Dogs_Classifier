{
  "nbformat": 4,
  "nbformat_minor": 0,
  "metadata": {
    "colab": {
      "name": "Cats_vs_dogs_classifier.ipynb",
      "provenance": []
    },
    "kernelspec": {
      "name": "python3",
      "display_name": "Python 3"
    }
  },
  "cells": [
    {
      "cell_type": "markdown",
      "metadata": {
        "id": "iRIPcDAJ68ds",
        "colab_type": "text"
      },
      "source": [
        "### IMPORT LIBRARIES"
      ]
    },
    {
      "cell_type": "code",
      "metadata": {
        "id": "wXwYdbP_6qOv",
        "colab_type": "code",
        "colab": {}
      },
      "source": [
        "import os\n",
        "import zipfile\n",
        "import random\n",
        "import tensorflow as tf\n",
        "from tensorflow.keras.optimizers import RMSprop\n",
        "from tensorflow.keras.preprocessing.image import ImageDataGenerator\n",
        "from shutil import copyfile"
      ],
      "execution_count": 25,
      "outputs": []
    },
    {
      "cell_type": "markdown",
      "metadata": {
        "id": "NmGXpQpjLoNd",
        "colab_type": "text"
      },
      "source": [
        ""
      ]
    },
    {
      "cell_type": "markdown",
      "metadata": {
        "id": "-Wu11V7w7EB4",
        "colab_type": "text"
      },
      "source": [
        "### SOURCE PATH "
      ]
    },
    {
      "cell_type": "code",
      "metadata": {
        "id": "brJGBCKC6ye1",
        "colab_type": "code",
        "colab": {
          "base_uri": "https://localhost:8080/",
          "height": 208
        },
        "outputId": "7783c9d3-5ac0-4682-8bd7-9f56da1ab526"
      },
      "source": [
        "# If the URL doesn't work, \n",
        "# .   visit https://www.microsoft.com/en-us/download/confirmation.aspx?id=54765\n",
        "# And right click on the 'Download Manually' link to get a new URL\n",
        "\n",
        "!wget --no-check-certificate \\\n",
        "    \"https://download.microsoft.com/download/3/E/1/3E1C3F21-ECDB-4869-8368-6DEBA77B919F/kagglecatsanddogs_3367a.zip\" \\\n",
        "    -O \"/tmp/cats-and-dogs.zip\"\n",
        "\n",
        "local_zip = '/tmp/cats-and-dogs.zip'\n",
        "zip_ref = zipfile.ZipFile(local_zip, 'r')\n",
        "zip_ref.extractall('/tmp')\n",
        "zip_ref.close()\n"
      ],
      "execution_count": 26,
      "outputs": [
        {
          "output_type": "stream",
          "text": [
            "--2020-06-22 09:26:00--  https://download.microsoft.com/download/3/E/1/3E1C3F21-ECDB-4869-8368-6DEBA77B919F/kagglecatsanddogs_3367a.zip\n",
            "Resolving download.microsoft.com (download.microsoft.com)... 23.36.68.33, 2600:1402:800:2a8::e59, 2600:1402:800:2ac::e59\n",
            "Connecting to download.microsoft.com (download.microsoft.com)|23.36.68.33|:443... connected.\n",
            "HTTP request sent, awaiting response... 200 OK\n",
            "Length: 824894548 (787M) [application/octet-stream]\n",
            "Saving to: ‘/tmp/cats-and-dogs.zip’\n",
            "\n",
            "/tmp/cats-and-dogs. 100%[===================>] 786.68M   192MB/s    in 4.2s    \n",
            "\n",
            "2020-06-22 09:26:05 (189 MB/s) - ‘/tmp/cats-and-dogs.zip’ saved [824894548/824894548]\n",
            "\n"
          ],
          "name": "stdout"
        }
      ]
    },
    {
      "cell_type": "code",
      "metadata": {
        "id": "PpEaPS2b61vk",
        "colab_type": "code",
        "colab": {
          "base_uri": "https://localhost:8080/",
          "height": 52
        },
        "outputId": "92850e3b-5936-489d-ef2f-258da42e4ace"
      },
      "source": [
        "print(len(os.listdir('/tmp/PetImages/Cat/')))\n",
        "print(len(os.listdir('/tmp/PetImages/Dog/')))"
      ],
      "execution_count": 27,
      "outputs": [
        {
          "output_type": "stream",
          "text": [
            "12501\n",
            "12501\n"
          ],
          "name": "stdout"
        }
      ]
    },
    {
      "cell_type": "markdown",
      "metadata": {
        "id": "DwqGCV6W7RFQ",
        "colab_type": "text"
      },
      "source": [
        "### MAKE DIRECTORIES"
      ]
    },
    {
      "cell_type": "code",
      "metadata": {
        "id": "VtVvCtYH7Lk7",
        "colab_type": "code",
        "colab": {}
      },
      "source": [
        "try:\n",
        "    os.mkdir('/tmp/cats-v-dogs')\n",
        "    os.mkdir('/tmp/cats-v-dogs/training')\n",
        "    os.mkdir('/tmp/cats-v-dogs/testing')\n",
        "    os.mkdir('/tmp/cats-v-dogs/training/cats')\n",
        "    os.mkdir('/tmp/cats-v-dogs/training/dogs')\n",
        "    os.mkdir('/tmp/cats-v-dogs/testing/cats')\n",
        "    os.mkdir('/tmp/cats-v-dogs/testing/dogs')\n",
        "except OSError:\n",
        "    pass"
      ],
      "execution_count": 28,
      "outputs": []
    },
    {
      "cell_type": "markdown",
      "metadata": {
        "id": "LIYsZRVc7VtJ",
        "colab_type": "text"
      },
      "source": [
        "### SPLITTING TRAIN AND TEST DATA"
      ]
    },
    {
      "cell_type": "code",
      "metadata": {
        "id": "KOtsh4ED7cE8",
        "colab_type": "code",
        "colab": {}
      },
      "source": [
        "def split_data(SOURCE, TRAINING, TESTING, SPLIT_SIZE):\n",
        "    all_files = []\n",
        "    for files in os.listdir(SOURCE): \n",
        "        FILE_NAME = SOURCE + files \n",
        "        if os.path.getsize(FILE_NAME) > 0: \n",
        "            all_files.append(files)\n",
        "\n",
        "    dataset_size = int(len(all_files))\n",
        "    train_size = int(dataset_size * SPLIT_SIZE)\n",
        "    \n",
        "    shuffled_list = random.sample(all_files, dataset_size)\n",
        "    train_set = shuffled_list[0 : train_size]\n",
        "    test_set = shuffled_list[train_size : dataset_size]\n",
        "\n",
        "    for files in train_set: \n",
        "        copyfile(SOURCE + files, TRAINING + files)\n",
        "    for files in test_set: \n",
        "        copyfile(SOURCE + files, TESTING + files)"
      ],
      "execution_count": 29,
      "outputs": []
    },
    {
      "cell_type": "markdown",
      "metadata": {
        "id": "u6_nfbv17mvs",
        "colab_type": "text"
      },
      "source": [
        "### LOAD DIRECTORIES AND SPLIT THEIR DATA INTO TRAIN AND TEST SETS"
      ]
    },
    {
      "cell_type": "code",
      "metadata": {
        "id": "uf9Flpx27h9M",
        "colab_type": "code",
        "colab": {
          "base_uri": "https://localhost:8080/",
          "height": 86
        },
        "outputId": "325406f6-d853-4c7d-9b68-a37362431445"
      },
      "source": [
        "CAT_SOURCE_DIR = \"/tmp/PetImages/Cat/\"\n",
        "TRAINING_CATS_DIR = \"/tmp/cats-v-dogs/training/cats/\"\n",
        "TESTING_CATS_DIR = \"/tmp/cats-v-dogs/testing/cats/\"\n",
        "DOG_SOURCE_DIR = \"/tmp/PetImages/Dog/\"\n",
        "TRAINING_DOGS_DIR = \"/tmp/cats-v-dogs/training/dogs/\"\n",
        "TESTING_DOGS_DIR = \"/tmp/cats-v-dogs/testing/dogs/\"\n",
        "\n",
        "split_size = .9\n",
        "split_data(CAT_SOURCE_DIR, TRAINING_CATS_DIR, TESTING_CATS_DIR, split_size)\n",
        "split_data(DOG_SOURCE_DIR, TRAINING_DOGS_DIR, TESTING_DOGS_DIR, split_size)\n",
        "\n",
        "print(len(os.listdir('/tmp/cats-v-dogs/training/cats/')))\n",
        "print(len(os.listdir('/tmp/cats-v-dogs/training/dogs/')))\n",
        "print(len(os.listdir('/tmp/cats-v-dogs/testing/cats/')))\n",
        "print(len(os.listdir('/tmp/cats-v-dogs/testing/dogs/')))"
      ],
      "execution_count": 30,
      "outputs": [
        {
          "output_type": "stream",
          "text": [
            "12500\n",
            "12499\n",
            "5136\n",
            "5101\n"
          ],
          "name": "stdout"
        }
      ]
    },
    {
      "cell_type": "markdown",
      "metadata": {
        "id": "kRSS5-CZ83yt",
        "colab_type": "text"
      },
      "source": [
        "### SEQUENTIAL MODEL CREATION WITH FOUR 3x3 CONVOLUTIONS"
      ]
    },
    {
      "cell_type": "code",
      "metadata": {
        "id": "SGYAQ_cw83fa",
        "colab_type": "code",
        "colab": {}
      },
      "source": [
        "model = tf.keras.models.Sequential([\n",
        "    tf.keras.layers.Conv2D(32, (3,3), activation = 'relu', input_shape=(150, 150, 3)), \n",
        "    tf.keras.layers.MaxPooling2D((2,2)), \n",
        "\n",
        "    tf.keras.layers.Conv2D(64, (3,3), activation = 'relu'), \n",
        "    tf.keras.layers.MaxPooling2D((2,2)), \n",
        "\n",
        "    tf.keras.layers.Conv2D(128, (3,3), activation = 'relu'), \n",
        "    tf.keras.layers.MaxPooling2D((2,2)), \n",
        "    \n",
        "    tf.keras.layers.Conv2D(128, (3,3), activation = 'relu'), \n",
        "    tf.keras.layers.MaxPooling2D((2,2)), \n",
        "    \n",
        "    tf.keras.layers.Flatten(), \n",
        "    tf.keras.layers.Dense(512, activation = 'relu'), \n",
        "    \n",
        "    tf.keras.layers.Dense(1, activation = 'sigmoid'),\n",
        "])\n"
      ],
      "execution_count": 35,
      "outputs": []
    },
    {
      "cell_type": "markdown",
      "metadata": {
        "id": "9NY3gZgV9FM1",
        "colab_type": "text"
      },
      "source": [
        "### COMPILE MODEL "
      ]
    },
    {
      "cell_type": "code",
      "metadata": {
        "id": "qZTR7EYn9JNX",
        "colab_type": "code",
        "colab": {}
      },
      "source": [
        "model.compile(optimizer=RMSprop(lr=0.001), loss='binary_crossentropy', metrics=['acc']) "
      ],
      "execution_count": 36,
      "outputs": []
    },
    {
      "cell_type": "markdown",
      "metadata": {
        "id": "y2k1DZDy9RDC",
        "colab_type": "text"
      },
      "source": [
        "### IMAGE PREPROCESSING USING ImageDataGenerator \n",
        "#### flow_from_directory for file path inclusion"
      ]
    },
    {
      "cell_type": "code",
      "metadata": {
        "id": "sIoTocfG9fnV",
        "colab_type": "code",
        "colab": {
          "base_uri": "https://localhost:8080/",
          "height": 52
        },
        "outputId": "cf64d234-db2d-453a-90a8-fbd9fe521b1f"
      },
      "source": [
        "TRAINING_DIR = \"/tmp/cats-v-dogs/training\"\n",
        "train_datagen = ImageDataGenerator(rescale = 1./255,\n",
        "                                   rotation_range = 40, \n",
        "                                   width_shift_range = 0.2, \n",
        "                                   height_shift_range = 0.2,\n",
        "                                   shear_range = 0.2, \n",
        "                                   zoom_range = 0.2, \n",
        "                                   horizontal_flip = True, \n",
        "                                   fill_mode = 'nearest'\n",
        "                                  )\n",
        "train_generator = train_datagen.flow_from_directory(TRAINING_DIR, \n",
        "                                                    target_size = (150, 150), \n",
        "                                                    class_mode = 'binary', \n",
        "                                                    batch_size = 10)\n",
        "\n",
        "VALIDATION_DIR = '/tmp/cats-v-dogs/testing/'\n",
        "validation_datagen = ImageDataGenerator(rescale = 1./255,\n",
        "                                   rotation_range = 40, \n",
        "                                   width_shift_range = 0.2, \n",
        "                                   height_shift_range = 0.2,\n",
        "                                   shear_range = 0.2, \n",
        "                                   zoom_range = 0.2, \n",
        "                                   horizontal_flip = True, \n",
        "                                   fill_mode = 'nearest')\n",
        "validation_generator = validation_datagen.flow_from_directory(VALIDATION_DIR,\n",
        "                                                            target_size = (150, 150), \n",
        "                                                            class_mode = 'binary', \n",
        "                                                            batch_size = 10)"
      ],
      "execution_count": 37,
      "outputs": [
        {
          "output_type": "stream",
          "text": [
            "Found 24997 images belonging to 2 classes.\n",
            "Found 10236 images belonging to 2 classes.\n"
          ],
          "name": "stdout"
        }
      ]
    },
    {
      "cell_type": "markdown",
      "metadata": {
        "id": "XwcEP-c080EA",
        "colab_type": "text"
      },
      "source": [
        "### FIT THE MODEL"
      ]
    },
    {
      "cell_type": "code",
      "metadata": {
        "id": "grjsWj938zy4",
        "colab_type": "code",
        "colab": {
          "base_uri": "https://localhost:8080/",
          "height": 885
        },
        "outputId": "d3c74c15-34a6-4057-f2cc-9efe62bbe2a4"
      },
      "source": [
        "history = model.fit_generator(\n",
        "      train_generator,\n",
        "      steps_per_epoch=100,  # 2000 images = batch_size * steps\n",
        "      epochs=25,\n",
        "      validation_data=validation_generator,\n",
        "      validation_steps=50,  # 1000 images = batch_size * steps\n",
        "      verbose=2)"
      ],
      "execution_count": 38,
      "outputs": [
        {
          "output_type": "stream",
          "text": [
            "Epoch 1/25\n",
            "100/100 - 59s - loss: 0.7203 - acc: 0.5400 - val_loss: 0.6877 - val_acc: 0.5560\n",
            "Epoch 2/25\n",
            "100/100 - 59s - loss: 0.7014 - acc: 0.5210 - val_loss: 0.6815 - val_acc: 0.5600\n",
            "Epoch 3/25\n",
            "100/100 - 59s - loss: 0.6959 - acc: 0.5540 - val_loss: 0.6787 - val_acc: 0.5300\n",
            "Epoch 4/25\n",
            "100/100 - 59s - loss: 0.6881 - acc: 0.5380 - val_loss: 0.6851 - val_acc: 0.5640\n",
            "Epoch 5/25\n",
            "100/100 - 59s - loss: 0.6820 - acc: 0.5550 - val_loss: 0.6649 - val_acc: 0.6420\n",
            "Epoch 6/25\n",
            "100/100 - 59s - loss: 0.6764 - acc: 0.6180 - val_loss: 0.6535 - val_acc: 0.5960\n",
            "Epoch 7/25\n",
            "100/100 - 59s - loss: 0.6911 - acc: 0.5760 - val_loss: 0.6439 - val_acc: 0.6660\n",
            "Epoch 8/25\n",
            "100/100 - 59s - loss: 0.6670 - acc: 0.6150 - val_loss: 0.6245 - val_acc: 0.6460\n",
            "Epoch 9/25\n",
            "100/100 - 59s - loss: 0.6771 - acc: 0.6330 - val_loss: 0.6274 - val_acc: 0.6620\n",
            "Epoch 10/25\n",
            "100/100 - 59s - loss: 0.6583 - acc: 0.6460 - val_loss: 0.6379 - val_acc: 0.6400\n",
            "Epoch 11/25\n",
            "100/100 - 60s - loss: 0.6411 - acc: 0.6420 - val_loss: 0.6349 - val_acc: 0.6480\n",
            "Epoch 12/25\n",
            "100/100 - 61s - loss: 0.6397 - acc: 0.6590 - val_loss: 0.6725 - val_acc: 0.6140\n",
            "Epoch 13/25\n",
            "100/100 - 61s - loss: 0.6734 - acc: 0.6010 - val_loss: 0.6310 - val_acc: 0.6480\n",
            "Epoch 14/25\n",
            "100/100 - 61s - loss: 0.6578 - acc: 0.6330 - val_loss: 0.6209 - val_acc: 0.6860\n",
            "Epoch 15/25\n",
            "100/100 - 61s - loss: 0.6531 - acc: 0.6310 - val_loss: 0.7252 - val_acc: 0.5980\n",
            "Epoch 16/25\n",
            "100/100 - 60s - loss: 0.6667 - acc: 0.6330 - val_loss: 0.6616 - val_acc: 0.5960\n",
            "Epoch 17/25\n",
            "100/100 - 60s - loss: 0.6441 - acc: 0.6290 - val_loss: 0.5972 - val_acc: 0.7060\n",
            "Epoch 18/25\n",
            "100/100 - 60s - loss: 0.6206 - acc: 0.6560 - val_loss: 0.6121 - val_acc: 0.6580\n",
            "Epoch 19/25\n",
            "100/100 - 59s - loss: 0.6466 - acc: 0.6450 - val_loss: 0.6182 - val_acc: 0.6760\n",
            "Epoch 20/25\n",
            "100/100 - 60s - loss: 0.6361 - acc: 0.6400 - val_loss: 0.6007 - val_acc: 0.6800\n",
            "Epoch 21/25\n",
            "100/100 - 60s - loss: 0.6254 - acc: 0.6670 - val_loss: 0.5886 - val_acc: 0.6920\n",
            "Epoch 22/25\n",
            "100/100 - 59s - loss: 0.6257 - acc: 0.6420 - val_loss: 0.6323 - val_acc: 0.6240\n",
            "Epoch 23/25\n",
            "100/100 - 60s - loss: 0.6394 - acc: 0.6660 - val_loss: 0.6405 - val_acc: 0.6600\n",
            "Epoch 24/25\n",
            "100/100 - 60s - loss: 0.6361 - acc: 0.6460 - val_loss: 0.6234 - val_acc: 0.6480\n",
            "Epoch 25/25\n",
            "100/100 - 60s - loss: 0.6250 - acc: 0.6680 - val_loss: 0.5815 - val_acc: 0.6900\n"
          ],
          "name": "stdout"
        }
      ]
    },
    {
      "cell_type": "markdown",
      "metadata": {
        "id": "iYOK4_EJeMV3",
        "colab_type": "text"
      },
      "source": [
        "### PLOT RESULTS"
      ]
    },
    {
      "cell_type": "code",
      "metadata": {
        "id": "r_lUNhDu7yRM",
        "colab_type": "code",
        "colab": {
          "base_uri": "https://localhost:8080/",
          "height": 545
        },
        "outputId": "0ae30771-7e08-4ef1-e574-97c58d256f3c"
      },
      "source": [
        "import matplotlib.pyplot as plt\n",
        "acc = history.history['acc']\n",
        "val_acc = history.history['val_acc']\n",
        "loss = history.history['loss']\n",
        "val_loss = history.history['val_loss']\n",
        "\n",
        "epochs = range(len(acc))\n",
        "\n",
        "plt.plot(epochs, acc, 'bo', label='Training accuracy')\n",
        "plt.plot(epochs, val_acc, 'b', label='Validation accuracy')\n",
        "plt.title('Training and validation accuracy', color = 'white')\n",
        "plt.grid()\n",
        "plt.figure()\n",
        "\n",
        "plt.plot(epochs, loss, 'bo', label='Training Loss')\n",
        "plt.plot(epochs, val_loss, 'b', label='Validation Loss')\n",
        "plt.title('Training and validation loss', color = 'white')\n",
        "plt.grid()\n",
        "plt.legend()\n",
        "\n",
        "plt.show()"
      ],
      "execution_count": 41,
      "outputs": [
        {
          "output_type": "display_data",
          "data": {
            "image/png": "[encoded data removed]",
            "text/plain": [
              "<Figure size 432x288 with 1 Axes>"
            ]
          },
          "metadata": {
            "tags": [],
            "needs_background": "light"
          }
        },
        {
          "output_type": "display_data",
          "data": {
            "image/png": "[encoded data removed]",
            "text/plain": [
              "<Figure size 432x288 with 1 Axes>"
            ]
          },
          "metadata": {
            "tags": [],
            "needs_background": "light"
          }
        }
      ]
    },
    {
      "cell_type": "code",
      "metadata": {
        "id": "cbK1dOFD7uRc",
        "colab_type": "code",
        "colab": {}
      },
      "source": [
        ""
      ],
      "execution_count": null,
      "outputs": []
    }
  ]
}